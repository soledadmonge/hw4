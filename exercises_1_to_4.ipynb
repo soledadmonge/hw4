{
 "cells": [
  {
   "cell_type": "markdown",
   "metadata": {},
   "source": [
    "### Exercise 1:\n",
    "Create a function called \"count_simba\" that counts and returns the number of times that Simba appears in a list of strings. Example: \"Simba and Nala are lions.\", \"I laugh in the face of danger.\",  \"Hakuna matata\", \"Timon, Pumba and Simba are friends, but Simba could eat the other two.\""
   ]
  },
  {
   "cell_type": "code",
   "execution_count": 6,
   "metadata": {},
   "outputs": [
    {
     "name": "stdout",
     "output_type": "stream",
     "text": [
      "The word 'Simba' appears 3 times.\n"
     ]
    }
   ],
   "source": [
    "from functools import reduce\n",
    "listofstrings = [\"Simba and Nala are lions.\", \"I laugh in the face of danger.\", \"Hakuna matata\", \"Timon, Pumba and Simba are friends, but Simba could eat the other two\"]\n",
    "\n",
    "def count_simba(listofstrings,word): # Function takes a list of strings and counts how many times a certain word appears in the list\n",
    "    counts_list = list(map(lambda single_string: single_string.count(word), listofstrings)) # Outputs a list of numbers that represent the count of the word in each string\n",
    "    count = reduce(lambda x,y: x+y, counts_list) # Adds up the numbers in the list produced above\n",
    "    print(f\"The word '{word}' appears {count} times.\")\n",
    "\n",
    "#user_word = input(\"Enter word: \") #This line will run in a .py file, but need to change \"Simba\" in next line to user_word\n",
    "count_simba(listofstrings,\"Simba\")"
   ]
  },
  {
   "cell_type": "markdown",
   "metadata": {},
   "source": [
    "### Exercise 2:\n",
    "Create a function called \"get_day_month_year\" that takes a list of datetimes.date and returns a pandas dataframe with 3 columns (day, month, year) in which each of the rows is an element of the input list and has as value its  day, month, and year."
   ]
  },
  {
   "cell_type": "code",
   "execution_count": 5,
   "metadata": {},
   "outputs": [
    {
     "data": {
      "text/html": [
       "<div>\n",
       "<style scoped>\n",
       "    .dataframe tbody tr th:only-of-type {\n",
       "        vertical-align: middle;\n",
       "    }\n",
       "\n",
       "    .dataframe tbody tr th {\n",
       "        vertical-align: top;\n",
       "    }\n",
       "\n",
       "    .dataframe thead th {\n",
       "        text-align: right;\n",
       "    }\n",
       "</style>\n",
       "<table border=\"1\" class=\"dataframe\">\n",
       "  <thead>\n",
       "    <tr style=\"text-align: right;\">\n",
       "      <th></th>\n",
       "      <th>day</th>\n",
       "      <th>month</th>\n",
       "      <th>year</th>\n",
       "    </tr>\n",
       "  </thead>\n",
       "  <tbody>\n",
       "    <tr>\n",
       "      <th>0</th>\n",
       "      <td>16</td>\n",
       "      <td>10</td>\n",
       "      <td>2024</td>\n",
       "    </tr>\n",
       "    <tr>\n",
       "      <th>1</th>\n",
       "      <td>17</td>\n",
       "      <td>10</td>\n",
       "      <td>2024</td>\n",
       "    </tr>\n",
       "    <tr>\n",
       "      <th>2</th>\n",
       "      <td>18</td>\n",
       "      <td>10</td>\n",
       "      <td>2024</td>\n",
       "    </tr>\n",
       "    <tr>\n",
       "      <th>3</th>\n",
       "      <td>19</td>\n",
       "      <td>10</td>\n",
       "      <td>2024</td>\n",
       "    </tr>\n",
       "    <tr>\n",
       "      <th>4</th>\n",
       "      <td>20</td>\n",
       "      <td>10</td>\n",
       "      <td>2024</td>\n",
       "    </tr>\n",
       "    <tr>\n",
       "      <th>5</th>\n",
       "      <td>21</td>\n",
       "      <td>10</td>\n",
       "      <td>2024</td>\n",
       "    </tr>\n",
       "    <tr>\n",
       "      <th>6</th>\n",
       "      <td>22</td>\n",
       "      <td>10</td>\n",
       "      <td>2024</td>\n",
       "    </tr>\n",
       "    <tr>\n",
       "      <th>7</th>\n",
       "      <td>23</td>\n",
       "      <td>10</td>\n",
       "      <td>2024</td>\n",
       "    </tr>\n",
       "    <tr>\n",
       "      <th>8</th>\n",
       "      <td>24</td>\n",
       "      <td>10</td>\n",
       "      <td>2024</td>\n",
       "    </tr>\n",
       "    <tr>\n",
       "      <th>9</th>\n",
       "      <td>25</td>\n",
       "      <td>10</td>\n",
       "      <td>2024</td>\n",
       "    </tr>\n",
       "  </tbody>\n",
       "</table>\n",
       "</div>"
      ],
      "text/plain": [
       "   day  month  year\n",
       "0   16     10  2024\n",
       "1   17     10  2024\n",
       "2   18     10  2024\n",
       "3   19     10  2024\n",
       "4   20     10  2024\n",
       "5   21     10  2024\n",
       "6   22     10  2024\n",
       "7   23     10  2024\n",
       "8   24     10  2024\n",
       "9   25     10  2024"
      ]
     },
     "execution_count": 5,
     "metadata": {},
     "output_type": "execute_result"
    }
   ],
   "source": [
    "import pandas as pd\n",
    "import datetime \n",
    "from datetime import date\n",
    "from functools import reduce\n",
    "\n",
    "num_of_dates = 10\n",
    "today = datetime.datetime.today()\n",
    "date_list = [date.today() + datetime.timedelta(days=x) for x in range(num_of_dates)]\n",
    "\n",
    "def get_day_month_year(dates):\n",
    "    day_month_year = list(map(lambda dmy: {'day': dmy.day, 'month': dmy.month, 'year': dmy.year}, dates)) # Use map to extract the day, month, and year from each date in the list\n",
    "    #day_month_year_list = reduce(lambda acc, x: acc + [x], day_month_year, []) # Reduce the mapped results to a list of dictionaries\n",
    "    \n",
    "# Create a pandas DataFrame from the list of dictionaries\n",
    "    df = pd.DataFrame(day_month_year)\n",
    "    dates = date_list  \n",
    "    return df\n",
    "\n",
    "get_day_month_year(date_list)"
   ]
  },
  {
   "cell_type": "markdown",
   "metadata": {},
   "source": [
    "### Exercise 3:\n",
    "Create a function called \"compute_distance\" that takes a list of tuple pairs with latitude and longitude coordinates and returns a list with the distance between the two pairs example input: [((41.23,23.5), (41.5, 23.4)), ((52.38, 20.1),(52.3, 17.8))] HINT: You can use geopy.distance in order to compute the distance"
   ]
  },
  {
   "cell_type": "code",
   "execution_count": null,
   "metadata": {},
   "outputs": [],
   "source": []
  },
  {
   "cell_type": "markdown",
   "metadata": {},
   "source": [
    "### Exercise 4:\n",
    "Consider a list that each element can be an integer or a list that contains integers or more lists with integers example: [[2], 4, 5, [1, [2], [3, 5, [7,8]], 10], 1]. Create a recursive function called \"sum_general_int_list\" that takes as input this type of list and returns the sum of all the integers within the lists for instance for list_1=[[2], 3, [[1,2],5]] the result should be 13."
   ]
  },
  {
   "cell_type": "code",
   "execution_count": null,
   "metadata": {},
   "outputs": [],
   "source": []
  }
 ],
 "metadata": {
  "kernelspec": {
   "display_name": "base",
   "language": "python",
   "name": "python3"
  },
  "language_info": {
   "codemirror_mode": {
    "name": "ipython",
    "version": 3
   },
   "file_extension": ".py",
   "mimetype": "text/x-python",
   "name": "python",
   "nbconvert_exporter": "python",
   "pygments_lexer": "ipython3",
   "version": "3.11.7"
  }
 },
 "nbformat": 4,
 "nbformat_minor": 2
}
