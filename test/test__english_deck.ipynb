{
 "cells": [
  {
   "cell_type": "code",
   "execution_count": 3,
   "metadata": {},
   "outputs": [],
   "source": [
    "import sys\n",
    "import os\n",
    "import pytest\n",
    "\n",
    "sys.path.append(os.path.abspath(\"../hw5_lib\"))  \n",
    "from hw5_lib.hw5 import Card, Deck"
   ]
  },
  {
   "cell_type": "code",
   "execution_count": 4,
   "metadata": {},
   "outputs": [],
   "source": [
    "def test__card():\n",
    "    card = Card('Hearts', 'A')\n",
    "    \n",
    "    assert card.suit == 'Hearts', \"Suit must be 'Hearts'\"\n",
    "    assert card.value == 'A', \"The value must be 'A'\""
   ]
  },
  {
   "cell_type": "code",
   "execution_count": 7,
   "metadata": {},
   "outputs": [],
   "source": [
    "def test__deck():\n",
    "    deck = Deck()\n",
    "    t_suits = {'Hearts', 'Diamonds', 'Clubs', 'Spades'}\n",
    "    t_values = {'A', '2', '3', '4', '5', '6', '7', '8', '9', '10', 'J', 'Q', 'K'}\n",
    "\n",
    "    assert {card.suit for card in deck.cards} == t_suits, \"The Deck must have all the suits\"\n",
    "    assert {card.value for card in deck.cards} == t_values, \"The Deck must have all de values\"\n",
    "    assert len(deck.cards) == 52, \"The Deck must have 52 cards\"\n"
   ]
  }
 ],
 "metadata": {
  "kernelspec": {
   "display_name": "base",
   "language": "python",
   "name": "python3"
  },
  "language_info": {
   "codemirror_mode": {
    "name": "ipython",
    "version": 3
   },
   "file_extension": ".py",
   "mimetype": "text/x-python",
   "name": "python",
   "nbconvert_exporter": "python",
   "pygments_lexer": "ipython3",
   "version": "3.12.4"
  }
 },
 "nbformat": 4,
 "nbformat_minor": 2
}
