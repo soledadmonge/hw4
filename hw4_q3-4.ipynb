{
 "cells": [
  {
   "cell_type": "markdown",
   "metadata": {},
   "source": [
    "### Exercise 3:\n",
    "Create a function called \"compute_distance\" that takes a list of tuple pairs with latitude and longitude coordinates and returns a list with the distance between the two pairs example input: [((41.23,23.5), (41.5, 23.4)), ((52.38, 20.1),(52.3, 17.8))] HINT: You can use geopy.distance in order to compute the distance"
   ]
  },
  {
   "cell_type": "code",
   "execution_count": 9,
   "metadata": {},
   "outputs": [
    {
     "data": {
      "text/plain": [
       "[31.131865222052042, 157.005827868894]"
      ]
     },
     "execution_count": 9,
     "metadata": {},
     "output_type": "execute_result"
    }
   ],
   "source": [
    "import geopy\n",
    "from geopy.distance import geodesic\n",
    "\n",
    "# To calculate the distance of two points we can use \"geodesic\" or \"great_circle\". We are going to use the first one:\n",
    "def compute_distance(pairs):\n",
    "    # We use lambda to calculate the distance between each pair of coord (in this case, coords[0] and coords[1]). \n",
    "    # \"map\" applies this lambda to each element of \"pairs\". \n",
    "    # The result is an iterable with the distances, which we then convert to a list.\n",
    "    return list(map(lambda coords: geodesic(coords[0], coords[1]).kilometers, pairs))\n",
    "\n",
    "pairs = [((41.23, 23.5), (41.5, 23.4)), ((52.38, 20.1), (52.3, 17.8))]\n",
    "dist_km = compute_distance(pairs)\n",
    "dist_km"
   ]
  },
  {
   "cell_type": "markdown",
   "metadata": {},
   "source": [
    "### Exercise 4:\n",
    "Consider a list that each element can be an integer or a list that contains integers or more lists with integers example: [[2], 4, 5, [1, [2], [3, 5, [7,8]], 10], 1]. Create a recursive function called \"sum_general_int_list\" that takes as input this type of list and returns the sum of all the integers within the lists for instance for list_1=[[2], 3, [[1,2],5]] the result should be 13."
   ]
  },
  {
   "cell_type": "code",
   "execution_count": 13,
   "metadata": {},
   "outputs": [
    {
     "data": {
      "text/plain": [
       "13"
      ]
     },
     "execution_count": 13,
     "metadata": {},
     "output_type": "execute_result"
    }
   ],
   "source": [
    "def sum_general_int_list(list_ex):\n",
    "    # We use lambda and isistance to check if an element \"x\" is a list or an integer:\n",
    "     # a) If \"x\" is a list, the function makes a recursive call to sum_general_int_list(x) to decompose that list and sum its elements.\n",
    "     # b) If \"x\" is an integer, lambda returns the value of \"x\" and adds it.\n",
    "    # \"map\" applies this lambda to each element of \"list\". \n",
    "    # The result is the sum of all the elements.\n",
    "    return sum(map(lambda x: sum_general_int_list(x) if isinstance(x, list) else x, list_ex))\n",
    "\n",
    "list_ex = [[2], 3, [[1, 2], 5]]\n",
    "result = sum_general_int_list(list_ex)\n",
    "result"
   ]
  }
 ],
 "metadata": {
  "kernelspec": {
   "display_name": "base",
   "language": "python",
   "name": "python3"
  },
  "language_info": {
   "codemirror_mode": {
    "name": "ipython",
    "version": 3
   },
   "file_extension": ".py",
   "mimetype": "text/x-python",
   "name": "python",
   "nbconvert_exporter": "python",
   "pygments_lexer": "ipython3",
   "version": "3.12.4"
  }
 },
 "nbformat": 4,
 "nbformat_minor": 2
}
