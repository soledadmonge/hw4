{
 "cells": [
  {
   "cell_type": "code",
   "execution_count": 1,
   "metadata": {},
   "outputs": [],
   "source": [
    "from eda_lib.eda_func_1 import *"
   ]
  },
  {
   "cell_type": "code",
   "execution_count": 2,
   "metadata": {},
   "outputs": [],
   "source": [
    "df_1 = load_data('sample_diabetes_mellitus_data.csv')"
   ]
  },
  {
   "cell_type": "code",
   "execution_count": 3,
   "metadata": {},
   "outputs": [],
   "source": [
    "train_df, test_df = split_data(df_1)"
   ]
  },
  {
   "cell_type": "code",
   "execution_count": 4,
   "metadata": {},
   "outputs": [],
   "source": [
    "df_2 = remove_nan(df_1, ['age', 'gender', 'ethnicity'])"
   ]
  },
  {
   "cell_type": "code",
   "execution_count": 5,
   "metadata": {},
   "outputs": [],
   "source": [
    "df2_nan_filled = fill_nan(df_2, ['height', 'weight'])"
   ]
  },
  {
   "cell_type": "code",
   "execution_count": 6,
   "metadata": {},
   "outputs": [],
   "source": [
    "df_3 = generate_dummies_hot_encoder(df2_nan_filled, ['ethnicity'])"
   ]
  },
  {
   "cell_type": "code",
   "execution_count": 7,
   "metadata": {},
   "outputs": [],
   "source": [
    "df_3_sex_bin = binary_sex(df_3, 'gender')"
   ]
  },
  {
   "cell_type": "code",
   "execution_count": 8,
   "metadata": {},
   "outputs": [
    {
     "name": "stdout",
     "output_type": "stream",
     "text": [
      "Model Accuracy: 75.63%\n"
     ]
    }
   ],
   "source": [
    "features = ['age', 'height', 'weight', 'aids', 'cirrhosis', 'hepatic_failure', 'immunosuppression', 'leukemia', 'lymphoma', 'solid_tumor_with_metastasis']\n",
    "target = 'diabetes_mellitus'\n",
    "X_train, X_test, y_train, y_test, model = train_model_LogisticRegresion(df_3_sex_bin,features, target )"
   ]
  },
  {
   "cell_type": "code",
   "execution_count": 9,
   "metadata": {},
   "outputs": [
    {
     "name": "stdout",
     "output_type": "stream",
     "text": [
      "   probabilities\n",
      "0       0.176007\n",
      "1       0.269175\n",
      "2       0.166012\n",
      "3       0.225553\n",
      "4       0.063816\n"
     ]
    }
   ],
   "source": [
    "train_prob, test_prob, new_df_3 = predict_prob(X_train, X_test, model, df_3_sex_bin)"
   ]
  },
  {
   "cell_type": "code",
   "execution_count": 10,
   "metadata": {},
   "outputs": [
    {
     "name": "stdout",
     "output_type": "stream",
     "text": [
      "Training ROC AUC Score: 0.67\n",
      "Test ROC AUC Score: 0.67\n"
     ]
    }
   ],
   "source": [
    "train_roc_auc, test_roc_auc = roc_auc_score_train_test(y_train, y_test, train_prob, test_prob)"
   ]
  }
 ],
 "metadata": {
  "kernelspec": {
   "display_name": "brushup_env",
   "language": "python",
   "name": "python3"
  },
  "language_info": {
   "codemirror_mode": {
    "name": "ipython",
    "version": 3
   },
   "file_extension": ".py",
   "mimetype": "text/x-python",
   "name": "python",
   "nbconvert_exporter": "python",
   "pygments_lexer": "ipython3",
   "version": "3.12.5"
  }
 },
 "nbformat": 4,
 "nbformat_minor": 2
}
