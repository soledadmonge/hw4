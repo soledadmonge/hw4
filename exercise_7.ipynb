{
 "cells": [
  {
   "cell_type": "code",
   "execution_count": 1,
   "metadata": {},
   "outputs": [],
   "source": [
    "from exercise_6_functions_only import *"
   ]
  },
  {
   "cell_type": "code",
   "execution_count": 2,
   "metadata": {},
   "outputs": [
    {
     "name": "stdout",
     "output_type": "stream",
     "text": [
      "Model Accuracy: 75.63%\n",
      "   probabilities\n",
      "0       0.176007\n",
      "1       0.269175\n",
      "2       0.166012\n",
      "3       0.225553\n",
      "4       0.063816\n",
      "Training ROC AUC Score: 0.67\n",
      "Test ROC AUC Score: 0.67\n"
     ]
    }
   ],
   "source": [
    "df_1 = load_data()\n",
    "train_df, test_df = split_data(df_1)\n",
    "\n",
    "df_2 = remove_nan_age_gender_ethnicity(df_1)\n",
    "df_2 = fill_nan(df_2)\n",
    "\n",
    "df_3 = generate_dummies_ethnicity(df_2)\n",
    "df_3 = binary_sex(df_3)\n",
    "\n",
    "X_train, X_test, y_train, y_test, model = train_model(df_3)\n",
    "\n",
    "train_prob, test_prob, df_3 = predict_prob(X_train, X_test, model, df_3)\n",
    "\n",
    "train_roc_auc, test_roc_auc = roc_auc_score_train_test(y_train, y_test, train_prob, test_prob)\n"
   ]
  }
 ],
 "metadata": {
  "kernelspec": {
   "display_name": "brushup_env",
   "language": "python",
   "name": "python3"
  },
  "language_info": {
   "codemirror_mode": {
    "name": "ipython",
    "version": 3
   },
   "file_extension": ".py",
   "mimetype": "text/x-python",
   "name": "python",
   "nbconvert_exporter": "python",
   "pygments_lexer": "ipython3",
   "version": "3.12.5"
  }
 },
 "nbformat": 4,
 "nbformat_minor": 2
}
