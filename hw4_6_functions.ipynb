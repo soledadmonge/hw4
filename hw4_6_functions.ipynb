{
 "cells": [
  {
   "cell_type": "code",
   "execution_count": 26,
   "metadata": {},
   "outputs": [],
   "source": [
    "import pandas as pd\n",
    "import numpy as np\n",
    "from sklearn.metrics import accuracy_score, roc_auc_score\n",
    "from sklearn.model_selection import train_test_split\n",
    "from sklearn.linear_model import LogisticRegression\n",
    "from sklearn.preprocessing import OneHotEncoder,StandardScaler"
   ]
  },
  {
   "cell_type": "markdown",
   "metadata": {},
   "source": [
    "a. Load the data"
   ]
  },
  {
   "cell_type": "code",
   "execution_count": 27,
   "metadata": {},
   "outputs": [],
   "source": [
    "def load_data():\n",
    "    df_1 = pd.read_csv(\"sample_diabetes_mellitus_data.csv\")\n",
    "    return df_1"
   ]
  },
  {
   "cell_type": "markdown",
   "metadata": {},
   "source": [
    "b.  Split the data between train and test. (you can use train_test_split from sklearn or any other way)"
   ]
  },
  {
   "cell_type": "code",
   "execution_count": 28,
   "metadata": {},
   "outputs": [],
   "source": [
    "def split_data(df_1):\n",
    "    train_df, test_df = train_test_split(df_1, test_size=0.3, random_state=42)\n",
    "    return train_df, test_df"
   ]
  },
  {
   "cell_type": "markdown",
   "metadata": {},
   "source": [
    "c. Remove those rows that contain NaN values in the columns: age, gender, ethnicity"
   ]
  },
  {
   "cell_type": "code",
   "execution_count": 29,
   "metadata": {},
   "outputs": [],
   "source": [
    "def remove_nan_age_gender_ethnicity(df_1):\n",
    "    df_2 = df_1.dropna(subset=['age', 'gender', 'ethnicity'])\n",
    "    return df_2"
   ]
  },
  {
   "cell_type": "markdown",
   "metadata": {},
   "source": [
    "d. Fill NaN with the mean value of the column in the columns: height, weight."
   ]
  },
  {
   "cell_type": "code",
   "execution_count": 30,
   "metadata": {},
   "outputs": [],
   "source": [
    "def fill_nan(df_2):\n",
    "    df_2.loc[:, 'height'] = df_2['height'].fillna(df_2['height'].mean())\n",
    "    df_2.loc[:, 'weight'] = df_2['weight'].fillna(df_2['weight'].mean())\n",
    "    return df_2"
   ]
  },
  {
   "cell_type": "markdown",
   "metadata": {},
   "source": [
    "e. Generate dummies for ethnicity column (One hot encoding)."
   ]
  },
  {
   "cell_type": "code",
   "execution_count": 31,
   "metadata": {},
   "outputs": [],
   "source": [
    "def generate_dummies_ethnicity(df_2):\n",
    "# Apply one-hot encoding\n",
    "    encoder = OneHotEncoder()\n",
    "    encoded_data = encoder.fit_transform(df_2[['ethnicity']]).toarray()\n",
    "# Convert the encoded data back to a dataframe\n",
    "    encoded_df = pd.DataFrame(encoded_data, columns=encoder.get_feature_names_out(['ethnicity']))\n",
    "# Concatenate the encoded dataframe with the 'id' column\n",
    "    encoded_df = pd.concat([df_2['encounter_id'].reset_index(drop=True), encoded_df], axis=1)\n",
    "    \n",
    "    df_3 = pd.merge(df_2, encoded_df, on='encounter_id', how='left')\n",
    "    return df_3"
   ]
  },
  {
   "cell_type": "markdown",
   "metadata": {},
   "source": [
    "f. Create a binary variable for gender M/F."
   ]
  },
  {
   "cell_type": "code",
   "execution_count": 32,
   "metadata": {},
   "outputs": [],
   "source": [
    "def binary_sex(df_3):\n",
    "    df_3['gender_binary'] = df_3['gender'].map({'M': 1, 'F': 0})\n",
    "    return df_3"
   ]
  },
  {
   "cell_type": "markdown",
   "metadata": {},
   "source": [
    "g. Train a model (for instance LogisticRegression or RandomForestClassifier from sklearn) in the train data. Use as features the columns: ‘age’, ‘height’, ‘weight’, ‘aids’, ‘cirrhosis’, ‘hepatic_failure’, ‘immunosuppression’, ‘leukemia’, ‘lymphoma’, ‘solid_tumor_with_metastasis’. Use as target the column: ‘diabetes_mellitus’"
   ]
  },
  {
   "cell_type": "code",
   "execution_count": 33,
   "metadata": {},
   "outputs": [],
   "source": [
    "def train_model(df_3):\n",
    "    features = ['age', 'height', 'weight', 'aids', 'cirrhosis', 'hepatic_failure', 'immunosuppression', 'leukemia', 'lymphoma', 'solid_tumor_with_metastasis']\n",
    "    X = df_3[features]\n",
    "    y = df_3['diabetes_mellitus']\n",
    "\n",
    "    scaler = StandardScaler()\n",
    "    X = scaler.fit_transform(X)\n",
    "\n",
    "    X_train, X_test, y_train, y_test = train_test_split(X, y, test_size=0.3, random_state=42)\n",
    "\n",
    "    model = LogisticRegression()\n",
    "\n",
    "    model.fit(X_train, y_train)\n",
    "\n",
    "    y_pred = model.predict(X_test)\n",
    "\n",
    "    accuracy = accuracy_score(y_test, y_pred)\n",
    "\n",
    "    print(f\"Model Accuracy: {accuracy * 100:.2f}%\")\n",
    "    \n",
    "    return X_train, X_test, y_train, y_test, model\n",
    "    \n",
    "    "
   ]
  },
  {
   "cell_type": "markdown",
   "metadata": {},
   "source": [
    "h.  Predict the targets for both the train and test sets and add the prediction as a new column (use predict_proba from the model to get the predicted probabilities) name the new column something like predictions"
   ]
  },
  {
   "cell_type": "code",
   "execution_count": 34,
   "metadata": {},
   "outputs": [],
   "source": [
    "def predict_prob(X_train, X_test, model, df_3):\n",
    "# Predict the probabilities for both training and testing sets\n",
    "    train_prob = model.predict_proba(X_train)[:, 1]  \n",
    "    test_prob = model.predict_proba(X_test)[:, 1]    \n",
    "\n",
    "# Combine train and test probabilities into a single array\n",
    "    all_prob = np.concatenate([train_prob, test_prob])\n",
    "\n",
    "# Create a new column in df_3 for the combined probabilities\n",
    "    df_3['probabilities'] = all_prob\n",
    "\n",
    "# Optionally, print the first few rows to check the results\n",
    "    print(df_3[['probabilities']].head())\n",
    "    \n",
    "    return train_prob, test_prob,  df_3"
   ]
  },
  {
   "cell_type": "markdown",
   "metadata": {},
   "source": [
    "i.  Compute the train and test roc_auc metric using roc_auc_score from sklearn"
   ]
  },
  {
   "cell_type": "code",
   "execution_count": 35,
   "metadata": {},
   "outputs": [],
   "source": [
    "def roc_auc_score_train_test(y_train, y_test, train_prob, test_prob):\n",
    "#ROC AUC for the train set\n",
    "    train_roc_auc = roc_auc_score(y_train, train_prob)\n",
    "\n",
    "#ROC AUC for the test set\n",
    "    test_roc_auc = roc_auc_score(y_test, test_prob)\n",
    "\n",
    "    print(f\"Training ROC AUC Score: {train_roc_auc:.2f}\")\n",
    "    print(f\"Test ROC AUC Score: {test_roc_auc:.2f}\")\n",
    "    \n",
    "    return train_roc_auc, test_roc_auc"
   ]
  }
 ],
 "metadata": {
  "kernelspec": {
   "display_name": "brushup_env",
   "language": "python",
   "name": "python3"
  },
  "language_info": {
   "codemirror_mode": {
    "name": "ipython",
    "version": 3
   },
   "file_extension": ".py",
   "mimetype": "text/x-python",
   "name": "python",
   "nbconvert_exporter": "python",
   "pygments_lexer": "ipython3",
   "version": "3.12.5"
  }
 },
 "nbformat": 4,
 "nbformat_minor": 2
}
