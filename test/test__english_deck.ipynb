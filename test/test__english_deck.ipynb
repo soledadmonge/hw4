{
 "cells": [
  {
   "cell_type": "code",
   "execution_count": 3,
   "metadata": {},
   "outputs": [],
   "source": [
    "import sys\n",
    "import os\n",
    "import pytest\n",
    "\n",
    "sys.path.append(os.path.abspath(\"../hw5_lib\"))  \n",
    "from hw5_lib.hw5 import Card, Deck"
   ]
  },
  {
   "cell_type": "code",
   "execution_count": 11,
   "metadata": {},
   "outputs": [],
   "source": [
    "def test__card():\n",
    "    card = Card('Hearts', 'A')\n",
    "    \n",
    "    assert card.suit == 'Hearts', \"Suit must be 'Hearts'\"\n",
    "    assert card.value == 'A', \"The value must be 'A'\""
   ]
  },
  {
   "cell_type": "code",
   "execution_count": 10,
   "metadata": {},
   "outputs": [],
   "source": [
    "def test__deck():\n",
    "    deck = Deck()\n",
    "    t_suits = {'Hearts', 'Diamonds', 'Clubs', 'Spades'}\n",
    "    t_values = {'A', '2', '3', '4', '5', '6', '7', '8', '9', '10', 'J', 'Q', 'K'}\n",
    "\n",
    "    assert {card.suit for card in deck.cards} == t_suits, \"The Deck must have all the suits\"\n",
    "    assert {card.value for card in deck.cards} == t_values, \"The Deck must have all de values\"\n",
    "    assert len(deck.cards) == 52, \"The Deck must have 52 cards\"\n"
   ]
  },
  {
   "cell_type": "code",
   "execution_count": 8,
   "metadata": {},
   "outputs": [],
   "source": [
    "def test__shuffle():\n",
    "    deck = Deck()\n",
    "    before_shuffle = deck.cards[:] #order before shuffle\n",
    "    deck.shuffle() \n",
    "\n",
    "    assert deck.cards != before, \"The order must change after shuffle\"\n",
    "    assert len(deck.cards) == 52, \"The Deck must have 52 cards\"\n",
    "    "
   ]
  },
  {
   "cell_type": "code",
   "execution_count": 13,
   "metadata": {},
   "outputs": [],
   "source": [
    "def test__draw():\n",
    "    deck = Deck()\n",
    "    before_draw = len(deck.cards) #number of cards before draw\n",
    "    card_draw = deck.draw()\n",
    "    \n",
    "    assert len(deck.cards) == before_draw - 1, \"The deck must have one less card\"\n",
    "    \n",
    "    for _ in range(before_draw - 1):  #empty the deck\n",
    "        deck.draw()\n",
    "    assert len(deck.cards) == 0, \"The deck must be empty\"\n",
    "    assert deck.draw() is None, \"Draw must return None if the deck is empty\""
   ]
  }
 ],
 "metadata": {
  "kernelspec": {
   "display_name": "base",
   "language": "python",
   "name": "python3"
  },
  "language_info": {
   "codemirror_mode": {
    "name": "ipython",
    "version": 3
   },
   "file_extension": ".py",
   "mimetype": "text/x-python",
   "name": "python",
   "nbconvert_exporter": "python",
   "pygments_lexer": "ipython3",
   "version": "3.12.4"
  }
 },
 "nbformat": 4,
 "nbformat_minor": 2
}
