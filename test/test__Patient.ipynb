{
 "cells": [
  {
   "cell_type": "code",
   "execution_count": 1,
   "metadata": {},
   "outputs": [],
   "source": [
    "import sys\n",
    "import os\n",
    "import pytest\n",
    "\n",
    "sys.path.append(os.path.abspath(\"../hw5_lib\"))  \n",
    "from hw5_lib.hw5 import Patient"
   ]
  },
  {
   "cell_type": "code",
   "execution_count": null,
   "metadata": {},
   "outputs": [],
   "source": [
    "def test__add_test():\n",
    "    patient = Patient(name='Matias', symptoms='Narcolepsy')\n",
    "    patient.add_test(test_name='Fever', test_results=True)\n",
    "    assert patient.test == [('Fever',True)], \"The test was not added correctly\"\n",
    "\n",
    "test__add_test()"
   ]
  }
 ],
 "metadata": {
  "kernelspec": {
   "display_name": "brushup_env",
   "language": "python",
   "name": "python3"
  },
  "language_info": {
   "codemirror_mode": {
    "name": "ipython",
    "version": 3
   },
   "file_extension": ".py",
   "mimetype": "text/x-python",
   "name": "python",
   "nbconvert_exporter": "python",
   "pygments_lexer": "ipython3",
   "version": "3.12.5"
  }
 },
 "nbformat": 4,
 "nbformat_minor": 2
}
