{
 "cells": [
  {
   "cell_type": "code",
   "execution_count": 1,
   "metadata": {},
   "outputs": [],
   "source": [
    "import sys\n",
    "import os\n",
    "import pytest\n",
    "\n",
    "sys.path.append(os.path.abspath(\"../hw5_lib\"))  \n",
    "from hw5_lib.hw5 import Patient"
   ]
  },
  {
   "cell_type": "code",
   "execution_count": 2,
   "metadata": {},
   "outputs": [],
   "source": [
    "def test__add_test():\n",
    "    patient = Patient(name='Matias', symptoms='Narcolepsy')\n",
    "    patient.add_test(test_name='Fever', test_results=True)\n",
    "    assert patient.test == [('Fever',True)], \"The test was not added correctly\"\n",
    "\n",
    "test__add_test()"
   ]
  },
  {
   "cell_type": "code",
   "execution_count": 3,
   "metadata": {},
   "outputs": [],
   "source": [
    "def test__has_covid_no_symptoms():\n",
    "    patient = Patient(name='Matias', symptoms='Narcolepsy')\n",
    "    assert patient.has_covid() == 0.05 ,\"The probability is not correct\"\n",
    "\n",
    "test__has_covid_no_symptoms()"
   ]
  },
  {
   "cell_type": "code",
   "execution_count": 4,
   "metadata": {},
   "outputs": [],
   "source": [
    "def test_has_covid_with_symptoms():\n",
    "    patient = Patient(name='Matias', symptoms=['Narcolepsy','fever'])\n",
    "    assert patient.has_covid() == 0.15, \"The probability is not correct\"\n",
    "    \n",
    "test_has_covid_with_symptoms()"
   ]
  },
  {
   "cell_type": "code",
   "execution_count": null,
   "metadata": {},
   "outputs": [],
   "source": []
  }
 ],
 "metadata": {
  "kernelspec": {
   "display_name": "brushup_env",
   "language": "python",
   "name": "python3"
  },
  "language_info": {
   "codemirror_mode": {
    "name": "ipython",
    "version": 3
   },
   "file_extension": ".py",
   "mimetype": "text/x-python",
   "name": "python",
   "nbconvert_exporter": "python",
   "pygments_lexer": "ipython3",
   "version": "3.12.5"
  }
 },
 "nbformat": 4,
 "nbformat_minor": 2
}
