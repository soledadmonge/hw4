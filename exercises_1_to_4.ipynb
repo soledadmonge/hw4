{
 "cells": [
  {
   "cell_type": "markdown",
   "metadata": {},
   "source": [
    "### Exercise 1:\n",
    "Create a function called \"count_simba\" that counts and returns the number of times that Simba appears in a list of strings. Example: \"Simba and Nala are lions.\", \"I laugh in the face of danger.\",  \"Hakuna matata\", \"Timon, Pumba and Simba are friends, but Simba could eat the other two.\""
   ]
  },
  {
   "cell_type": "code",
   "execution_count": 36,
   "metadata": {},
   "outputs": [
    {
     "name": "stdout",
     "output_type": "stream",
     "text": [
      "The word 'Simba' appears in the list 3 times.\n"
     ]
    }
   ],
   "source": [
    "from functools import reduce\n",
    "\n",
    "def count_simba(listofstrings): # Function takes a list of strings and counts how many times a certain word appears in the list\n",
    "    counts_list = list(map(lambda single_string: single_string.count(word), listofstrings)) # Outputs a list of numbers that represent the count of the word in each string\n",
    "    count = reduce(lambda x,y: x+y, counts_list) # Adds up the numbers in the list produced above\n",
    "    return count\n",
    "\n",
    "listofstrings = [\"Simba and Nala are lions.\", \"I laugh in the face of danger.\", \"Hakuna matata\", \"Timon, Pumba and Simba are friends, but Simba could eat the other two\"]\n",
    "word = \"Simba\"\n",
    "print(f\"The word '{word}' appears in the list {count_simba(listofstrings)} times.\")"
   ]
  },
  {
   "cell_type": "markdown",
   "metadata": {},
   "source": [
    "### Exercise 2:\n",
    "Create a function called \"get_day_month_year\" that takes a list of datetimes.date and returns a pandas dataframe with 3 columns (day, month, year) in which each of the rows is an element of the input list and has as value its  day, month, and year."
   ]
  },
  {
   "cell_type": "code",
   "execution_count": null,
   "metadata": {},
   "outputs": [],
   "source": []
  },
  {
   "cell_type": "markdown",
   "metadata": {},
   "source": [
    "### Exercise 3:\n",
    "Create a function called \"compute_distance\" that takes a list of tuple pairs with latitude and longitude coordinates and returns a list with the distance between the two pairs example input: [((41.23,23.5), (41.5, 23.4)), ((52.38, 20.1),(52.3, 17.8))] HINT: You can use geopy.distance in order to compute the distance"
   ]
  },
  {
   "cell_type": "code",
   "execution_count": null,
   "metadata": {},
   "outputs": [],
   "source": []
  },
  {
   "cell_type": "markdown",
   "metadata": {},
   "source": [
    "### Exercise 4:\n",
    "Consider a list that each element can be an integer or a list that contains integers or more lists with integers example: [[2], 4, 5, [1, [2], [3, 5, [7,8]], 10], 1]. Create a recursive function called \"sum_general_int_list\" that takes as input this type of list and returns the sum of all the integers within the lists for instance for list_1=[[2], 3, [[1,2],5]] the result should be 13."
   ]
  },
  {
   "cell_type": "code",
   "execution_count": null,
   "metadata": {},
   "outputs": [],
   "source": []
  }
 ],
 "metadata": {
  "kernelspec": {
   "display_name": "base",
   "language": "python",
   "name": "python3"
  },
  "language_info": {
   "codemirror_mode": {
    "name": "ipython",
    "version": 3
   },
   "file_extension": ".py",
   "mimetype": "text/x-python",
   "name": "python",
   "nbconvert_exporter": "python",
   "pygments_lexer": "ipython3",
   "version": "3.11.7"
  }
 },
 "nbformat": 4,
 "nbformat_minor": 2
}
